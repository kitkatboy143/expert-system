{
 "cells": [
  {
   "cell_type": "code",
   "execution_count": 3,
   "id": "f8ff4336",
   "metadata": {},
   "outputs": [
    {
     "name": "stdout",
     "output_type": "stream",
     "text": [
      "Welcome to the Pro Kabaddi League form\n",
      "Please enter your name: d\n",
      "Please enter your age: 18\n",
      "Please answer the following questions with either 'yes' or 'no'.\n",
      "Have you already registered with a team? yes\n",
      "Do you have any playing certificate? yes\n",
      "Have you played in the Pro Kabaddi League before? no\n",
      "You are allowed to participate in the Pro Kabaddi League.\n",
      "Please make sure to bring your certificate.\n"
     ]
    }
   ],
   "source": [
    "print(\"Welcome to the Pro Kabaddi League form\")\n",
    "name = input(\"Please enter your name: \")\n",
    "age = int(input(\"Please enter your age: \"))\n",
    "\n",
    "if age < 18:\n",
    "    print(\"You are not old enough to participate in the Pro Kabaddi League.\")\n",
    "else:\n",
    "    print(\"Please answer the following questions with either 'yes' or 'no'.\")\n",
    "    reg = input(\"Have you already registered with a team? \")\n",
    "    cert = input(\"Do you have any playing certificate? \")\n",
    "    pkl = input(\"Have you played in the Pro Kabaddi League before? \")\n",
    "\n",
    "    if reg == 'yes' and pkl == 'no':\n",
    "        if cert == 'no':\n",
    "            print(\"Sorry, you are not allowed to participate in the Pro Kabaddi League.\")\n",
    "        else:\n",
    "            print(\"You are allowed to participate in the Pro Kabaddi League.\")\n",
    "            print(\"Please make sure to bring your certificate.\")\n",
    "    elif reg == 'yes' and (pkl == 'yes' or pkl == 'no'):\n",
    "        print(\"You are welcome to participate in the Pro Kabaddi League.\")\n",
    "    elif reg == 'no' and pkl == 'yes':\n",
    "        if cert == 'yes':\n",
    "            print(\"You are welcome to participate in the Pro Kabaddi League.\")\n",
    "        else:\n",
    "            print(\"You need to get your Pro Kabaddi League token and check your certificates immediately.\")\n",
    "    elif reg == 'yes' and pkl == 'no':\n",
    "        if cert == 'yes':\n",
    "            print(\"You have been selected and you will be a substitute player.\")\n",
    "        else:\n",
    "            print(\"You have been selected and you will be a substitute player.\")\n",
    "            print(\"Please make sure to check your certificates.\")\n",
    "    else:\n",
    "        print(\"Invalid input. Please try again with 'yes' or 'no'.\")\n"
   ]
  },
  {
   "cell_type": "code",
   "execution_count": null,
   "id": "30744c57",
   "metadata": {},
   "outputs": [],
   "source": []
  },
  {
   "cell_type": "code",
   "execution_count": null,
   "id": "a871fd09",
   "metadata": {},
   "outputs": [],
   "source": []
  },
  {
   "cell_type": "code",
   "execution_count": null,
   "id": "00a1e98c",
   "metadata": {},
   "outputs": [],
   "source": []
  },
  {
   "cell_type": "code",
   "execution_count": null,
   "id": "08113df1",
   "metadata": {},
   "outputs": [],
   "source": []
  },
  {
   "cell_type": "code",
   "execution_count": null,
   "id": "19a20be1",
   "metadata": {},
   "outputs": [],
   "source": []
  },
  {
   "cell_type": "code",
   "execution_count": null,
   "id": "8b4c1fd4",
   "metadata": {},
   "outputs": [],
   "source": []
  },
  {
   "cell_type": "code",
   "execution_count": null,
   "id": "64aa9c6e",
   "metadata": {},
   "outputs": [],
   "source": []
  },
  {
   "cell_type": "code",
   "execution_count": null,
   "id": "e36ca61c",
   "metadata": {},
   "outputs": [],
   "source": []
  },
  {
   "cell_type": "code",
   "execution_count": null,
   "id": "d7771df1",
   "metadata": {},
   "outputs": [],
   "source": []
  },
  {
   "cell_type": "code",
   "execution_count": null,
   "id": "1a734437",
   "metadata": {},
   "outputs": [],
   "source": []
  }
 ],
 "metadata": {
  "kernelspec": {
   "display_name": "Python 3 (ipykernel)",
   "language": "python",
   "name": "python3"
  },
  "language_info": {
   "codemirror_mode": {
    "name": "ipython",
    "version": 3
   },
   "file_extension": ".py",
   "mimetype": "text/x-python",
   "name": "python",
   "nbconvert_exporter": "python",
   "pygments_lexer": "ipython3",
   "version": "3.9.15"
  }
 },
 "nbformat": 4,
 "nbformat_minor": 5
}
